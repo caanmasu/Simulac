{
 "cells": [
  {
   "cell_type": "markdown",
   "metadata": {},
   "source": [
    "# Integral de Montecarlo (0, 1) de e^(-x^2)"
   ]
  },
  {
   "cell_type": "code",
   "execution_count": 22,
   "metadata": {},
   "outputs": [
    {
     "data": {
      "text/latex": [
       "$$F(x) = \\int_{0}^{1} e^{-x^{2}} dx = E[e^{-U^{2}}] = \\sum_{i=1}^{k} \\frac{e^{-U_{i}^{2}}}{k} = \\theta$$"
      ],
      "text/plain": [
       "<IPython.core.display.Math object>"
      ]
     },
     "metadata": {},
     "output_type": "display_data"
    }
   ],
   "source": [
    "from IPython.display import display, Math, Latex\n",
    "display(Math(r'F(x) = \\int_{0}^{1} e^{-x^{2}} dx = E[e^{-U^{2}}] = \\sum_{i=1}^{k} \\frac{e^{-U_{i}^{2}}}{k} = \\theta'))"
   ]
  },
  {
   "cell_type": "code",
   "execution_count": 23,
   "metadata": {},
   "outputs": [
    {
     "data": {
      "text/plain": [
       "0.7470718559883754"
      ]
     },
     "execution_count": 23,
     "metadata": {},
     "output_type": "execute_result"
    }
   ],
   "source": [
    "from random import random\n",
    "import math\n",
    "\n",
    "def IntegralM1():\n",
    "\n",
    "    k = 1000000\n",
    "    s = 0\n",
    "\n",
    "    for i in range(k):\n",
    "        u = random()\n",
    "        fx = math.exp(-u**2) #Función\n",
    "        s = s + fx #Acumulado\n",
    "\n",
    "    return s/k #Promedio \n",
    "\n",
    "IntegralM1()"
   ]
  },
  {
   "cell_type": "markdown",
   "metadata": {},
   "source": [
    "# Integral de Montecarlo (a, b) de e^(-x^2)"
   ]
  },
  {
   "cell_type": "code",
   "execution_count": 68,
   "metadata": {},
   "outputs": [
    {
     "data": {
      "text/latex": [
       "$$\\int_{a}^{b} g(x) dx = \\theta$$"
      ],
      "text/plain": [
       "<IPython.core.display.Math object>"
      ]
     },
     "metadata": {},
     "output_type": "display_data"
    },
    {
     "data": {
      "text/latex": [
       "$$a = 1$$"
      ],
      "text/plain": [
       "<IPython.core.display.Math object>"
      ]
     },
     "metadata": {},
     "output_type": "display_data"
    },
    {
     "data": {
      "text/latex": [
       "$$b = 2$$"
      ],
      "text/plain": [
       "<IPython.core.display.Math object>"
      ]
     },
     "metadata": {},
     "output_type": "display_data"
    },
    {
     "data": {
      "text/latex": [
       "$$g(x)=e^{-x^{2}}$$"
      ],
      "text/plain": [
       "<IPython.core.display.Math object>"
      ]
     },
     "metadata": {},
     "output_type": "display_data"
    },
    {
     "data": {
      "text/latex": [
       "$$y = \\frac{x-a}{b-a}, \\,dy=\\frac{1}{b-a} \\rightarrow x = a+(b-a)y, \\, dx = (b-a)dy$$"
      ],
      "text/plain": [
       "<IPython.core.display.Math object>"
      ]
     },
     "metadata": {},
     "output_type": "display_data"
    },
    {
     "data": {
      "text/latex": [
       "$$\\theta = \\int_{a}^{b} g(a+(b-a)y)(b-a) dy = \\int_{a}^{b} g(1+(2-1)y)(2-1) dy = \\int_{a}^{b} g(y+1)dy$$"
      ],
      "text/plain": [
       "<IPython.core.display.Math object>"
      ]
     },
     "metadata": {},
     "output_type": "display_data"
    },
    {
     "data": {
      "text/latex": [
       "$$\\theta = \\int_{0}^{1} e^{-x^{2}} dx = \\int_{0}^{1} e^{-(y+1)^{2}}$$"
      ],
      "text/plain": [
       "<IPython.core.display.Math object>"
      ]
     },
     "metadata": {},
     "output_type": "display_data"
    },
    {
     "name": "stdout",
     "output_type": "stream",
     "text": [
      "Finalmente, y es nuestra variable aleatoria u y queda:\n"
     ]
    },
    {
     "data": {
      "text/latex": [
       "$$\\theta = \\int_{0}^{1} e^{-(u+1)^{2}} du = \\sum_{i=1}^{k} \\frac{e^{-(u+1)^{2}}}{k}$$"
      ],
      "text/plain": [
       "<IPython.core.display.Math object>"
      ]
     },
     "metadata": {},
     "output_type": "display_data"
    }
   ],
   "source": [
    "from IPython.display import display, Math, Latex\n",
    "\n",
    "display(Math(r'\\int_{a}^{b} g(x) dx = \\theta'))\n",
    "display(Math(r'a = 1'))\n",
    "display(Math(r'b = 2'))\n",
    "display(Math(r'g(x)=e^{-x^{2}}'))\n",
    "display(Math(r'y = \\frac{x-a}{b-a}, \\,dy=\\frac{1}{b-a} \\rightarrow x = a+(b-a)y, \\, dx = (b-a)dy'))\n",
    "display(Math(r'\\theta = \\int_{a}^{b} g(a+(b-a)y)(b-a) dy = \\int_{a}^{b} g(1+(2-1)y)(2-1) dy = \\int_{a}^{b} g(y+1)dy'))\n",
    "display(Math(r'\\theta = \\int_{0}^{1} e^{-x^{2}} dx = \\int_{0}^{1} e^{-(y+1)^{2}}'))\n",
    "print (\"Finalmente, y es nuestra variable aleatoria u y queda:\")\n",
    "display(Math(r'\\theta = \\int_{0}^{1} e^{-(u+1)^{2}} du = \\sum_{i=1}^{k} \\frac{e^{-(u+1)^{2}}}{k}'))"
   ]
  },
  {
   "cell_type": "code",
   "execution_count": 44,
   "metadata": {},
   "outputs": [
    {
     "data": {
      "text/plain": [
       "0.1349171460580636"
      ]
     },
     "execution_count": 44,
     "metadata": {},
     "output_type": "execute_result"
    }
   ],
   "source": [
    "from random import random\n",
    "import math\n",
    "\n",
    "def IntegralM2():\n",
    "\n",
    "    k = 1000000 #Iteraciones\n",
    "    s = 0\n",
    "\n",
    "    a = 1 #Límite inferior\n",
    "    b = 2 #Límite superior\n",
    "\n",
    "    y = 0\n",
    "\n",
    "    for i in range(k):\n",
    "        u = random()\n",
    "        y = (a + (b-a)*u) #Sustitución f(u) en f(y)\n",
    "        fy = math.exp(-y**2) #Función\n",
    "        s = s + fy*(b-a) #Se multiplica con (b-a) porque el diferencial se despejó\n",
    "\n",
    "    return s/k\n",
    "\n",
    "IntegralM2()"
   ]
  },
  {
   "cell_type": "markdown",
   "metadata": {},
   "source": [
    "# Integral de Montecarlo (0, inf) de e^(-x^2)"
   ]
  },
  {
   "cell_type": "code",
   "execution_count": 69,
   "metadata": {},
   "outputs": [
    {
     "data": {
      "text/latex": [
       "$$\\int_{0}^{\\infty} g(x) dx = \\theta$$"
      ],
      "text/plain": [
       "<IPython.core.display.Math object>"
      ]
     },
     "metadata": {},
     "output_type": "display_data"
    },
    {
     "name": "stdout",
     "output_type": "stream",
     "text": [
      "Aplicamos la sustitución:\n"
     ]
    },
    {
     "data": {
      "text/latex": [
       "$$y = \\frac{1}{x+1}, \\, dy = -\\frac{dx}{(x+1)^{2}}$$"
      ],
      "text/plain": [
       "<IPython.core.display.Math object>"
      ]
     },
     "metadata": {},
     "output_type": "display_data"
    },
    {
     "name": "stdout",
     "output_type": "stream",
     "text": [
      "Entonces\n"
     ]
    },
    {
     "data": {
      "text/latex": [
       "$$x=\\frac{1}{y}-1, \\,dx=-\\frac{dy}{y^{2}}$$"
      ],
      "text/plain": [
       "<IPython.core.display.Math object>"
      ]
     },
     "metadata": {},
     "output_type": "display_data"
    },
    {
     "name": "stdout",
     "output_type": "stream",
     "text": [
      "Finalmente queda\n"
     ]
    },
    {
     "data": {
      "text/latex": [
       "$$\\theta = \\int_{0}^{1} \\frac{g(\\frac{1}{y}-1)}{y^{2}} dy = \\int_{0}^{1} \\frac{e^{-(\\frac{1}{u}-1)^{2}}}{u^{2}} du = \\sum_{i=1}^{k} \\frac{e^{-(\\frac{1}{u}-1)^{2}}}{u^{2}}$$"
      ],
      "text/plain": [
       "<IPython.core.display.Math object>"
      ]
     },
     "metadata": {},
     "output_type": "display_data"
    }
   ],
   "source": [
    "from IPython.display import display, Math, Latex\n",
    "display(Math(r'\\int_{0}^{\\infty} g(x) dx = \\theta'))\n",
    "print (\"Aplicamos la sustitución:\")\n",
    "display(Math(r'y = \\frac{1}{x+1}, \\, dy = -\\frac{dx}{(x+1)^{2}}'))\n",
    "print (\"Entonces\")\n",
    "display(Math(r'x=\\frac{1}{y}-1, \\,dx=-\\frac{dy}{y^{2}}'))\n",
    "print (\"Finalmente queda\")\n",
    "display(Math(r'\\theta = \\int_{0}^{1} \\frac{g(\\frac{1}{y}-1)}{y^{2}} dy = \\int_{0}^{1} \\frac{e^{-(\\frac{1}{u}-1)^{2}}}{u^{2}} du = \\sum_{i=1}^{k} \\frac{e^{-(\\frac{1}{u}-1)^{2}}}{u^{2}}'))"
   ]
  },
  {
   "cell_type": "code",
   "execution_count": 27,
   "metadata": {},
   "outputs": [
    {
     "data": {
      "text/plain": [
       "0.8859284116263291"
      ]
     },
     "execution_count": 27,
     "metadata": {},
     "output_type": "execute_result"
    }
   ],
   "source": [
    "from random import random\n",
    "import math\n",
    "\n",
    "def IntegralM3():\n",
    "\n",
    "    k = 100000\n",
    "    s = 0\n",
    "    \n",
    "    for i in range(k):\n",
    "        u = random()\n",
    "        y = 1/u-1\n",
    "        fy = math.exp(-y**2)\n",
    "        s = s + fy/(u**2)\n",
    "\n",
    "    return s/k\n",
    "    \n",
    "IntegralM3()"
   ]
  },
  {
   "cell_type": "markdown",
   "metadata": {},
   "source": [
    "# Dibujar el círculo de radio r en el origen"
   ]
  },
  {
   "cell_type": "code",
   "execution_count": 53,
   "metadata": {},
   "outputs": [
    {
     "data": {
      "image/png": "[encoded data removed]",
      "text/plain": [
       "<Figure size 432x288 with 1 Axes>"
      ]
     },
     "metadata": {},
     "output_type": "display_data"
    }
   ],
   "source": [
    "from pylab import *\n",
    "import matplotlib.pyplot as plt\n",
    "import numpy as np\n",
    "from random import random\n",
    "import math\n",
    "\n",
    "def crearCirculo(r, h ,k):\n",
    "\n",
    "    n = 10000\n",
    "    #h = desplazamiento en x\n",
    "    #k = desplazamiento en y\n",
    "    dentroX = [] #Puntos eje horizontal que están dentro del rango del círculo\n",
    "    dentroY = [] #Puntos eje vertical que están dentro del rango del círculo\n",
    "    fueraX = [] #Puntos eje horizontal que están fuera del rango del círculo\n",
    "    fueraY = [] #Puntos eje vertical que están fuera del rango del círculo\n",
    "\n",
    "    for i in range(n):\n",
    "        u1 = random()\n",
    "        u2 = random()\n",
    "        X = 2*r*u1-r #Contorno del círculo en el eje x\n",
    "        Y = 2*r*u2-r #Contorno del círculo en el eje y\n",
    "        area = (X-h)**2+(Y-k)**2\n",
    "        if (area <= r**2): #Si la coordenada (X, Y) se encuentra dentro, hacer:\n",
    "            dentroX.append(X)\n",
    "            dentroY.append(Y)\n",
    "        else:\n",
    "            fueraX.append(X)\n",
    "            fueraY.append(Y)\n",
    "\n",
    "\n",
    "    plt.title (\"Círculo de radio r en el origen\")\n",
    "    plt.plot(dentroX, dentroY, 'go') #la o es para graficar puntos y la g u otra letra para el color (g=green)\n",
    "    plt.plot(fueraX, fueraY, 'yo')\n",
    "    plt.show()\n",
    "    \n",
    "crearCirculo(3, 0, 0) #Recomendable dejar 2° y 3° parámetro en 0"
   ]
  },
  {
   "cell_type": "code",
   "execution_count": null,
   "metadata": {},
   "outputs": [],
   "source": []
  }
 ],
 "metadata": {
  "kernelspec": {
   "display_name": "Python 3",
   "language": "python",
   "name": "python3"
  },
  "language_info": {
   "codemirror_mode": {
    "name": "ipython",
    "version": 3
   },
   "file_extension": ".py",
   "mimetype": "text/x-python",
   "name": "python",
   "nbconvert_exporter": "python",
   "pygments_lexer": "ipython3",
   "version": "3.6.5"
  }
 },
 "nbformat": 4,
 "nbformat_minor": 2
}

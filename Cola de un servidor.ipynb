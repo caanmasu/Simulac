{
 "cells": [
  {
   "cell_type": "markdown",
   "metadata": {},
   "source": [
    "# Simulación de una cola de un servidor "
   ]
  },
  {
   "cell_type": "code",
   "execution_count": 144,
   "metadata": {},
   "outputs": [
    {
     "name": "stdout",
     "output_type": "stream",
     "text": [
      "Tiempo: 100\n",
      "Clientes en espera: 0\n",
      "Clientes atendidos: 196\n",
      "Tiempo medio del sistema en atender un cliente:  3.062299606952873\n",
      "Tiempo promedio que gasta un cliente en cola: 2.5972682259832673\n"
     ]
    }
   ],
   "source": [
    "from random import randint\n",
    "\n",
    "t = tsuc = Nll = Ns = n = 0\n",
    "M = 2**31\n",
    "TSuctll = M\n",
    "TSucts = M\n",
    "tamano = 1000\n",
    "LL = [0]*tamano\n",
    "S = [0]*tamano\n",
    "Serv = [0]*tamano\n",
    "T = 100\n",
    "\n",
    "def Iniciar():\n",
    "    global T, TSuctll, TSucts, tsuc, M, t, n\n",
    "    X = GCM()\n",
    "\n",
    "    if (X>T):\n",
    "        Tp = t_med_sistema = t_med_cola = 0\n",
    "    else:\n",
    "        Llegada(X)\n",
    "        clientes = 0\n",
    "        while (TSuctll!=M or TSucts!=M):\n",
    "            if (TSuctll<TSucts):\n",
    "                clientes = clientes + 1\n",
    "                tsuc = TSuctll\n",
    "                TSuctll = M\n",
    "                Llegada(tsuc)\n",
    "            if (TSucts<TSuctll):\n",
    "                tsuc = TSucts\n",
    "                TSucts = M\n",
    "                Servidor(tsuc)                \n",
    "        Tp = max(0, t-T)\n",
    "        acumulo1 = acumulo2 = ind = 0\n",
    "        while (ind<Nll):\n",
    "            acumulo1 = acumulo1 + S[ind] - LL[ind]\n",
    "            acumulo2 = acumulo2 + S[ind] - LL[ind] - Serv[ind]\n",
    "            ind = ind + 1\n",
    "        t_med_sistema = acumulo1/Nll\n",
    "        t_med_cola = acumulo2/Nll\n",
    "        print (\"Tiempo:\",T)\n",
    "        print (\"Clientes en espera:\",n)\n",
    "        print (\"Clientes atendidos:\",clientes)\n",
    "        print (\"Tiempo medio del sistema en atender un cliente: \", t_med_sistema)\n",
    "        print (\"Tiempo promedio que gasta un cliente en cola:\",t_med_cola)\n",
    "    \n",
    "def Llegada(tsuc_local):\n",
    "    global tsuc, n, Nll, t, TSucts, TSuctll, Ns, T\n",
    "    tsuc = tsuc_local\n",
    "    t = tsuc\n",
    "    n = n + 1\n",
    "    Nll = Nll + 1\n",
    "    LL[Nll] = t\n",
    "    X = GCM()\n",
    "    if ((t+X)<T):\n",
    "        TSuctll = t + X\n",
    "    if (n == 1):\n",
    "        Y = GCM()\n",
    "        TSucts = t + Y\n",
    "        Serv[Ns + 1] = Y\n",
    "        \n",
    "def Servidor(tsuc_local):\n",
    "    global tsuc, t, n, Ns, TSucts\n",
    "    tsuc = tsuc_local\n",
    "    t = tsuc\n",
    "    n = n - 1\n",
    "    Ns = Ns + 1\n",
    "    S[Ns] = t\n",
    "    if (n>0):\n",
    "        Y = GCM()\n",
    "        TSucts = t + Y\n",
    "        Serv[Ns] = Y\n",
    "        \n",
    "        \n",
    "def GCM():\n",
    "    m = 2**32\n",
    "    X0 = randint(1, 90)\n",
    "    X = (25214903917*X0+1)%m\n",
    "    return X/m\n",
    "        \n",
    "if __name__ == \"__main__\":\n",
    "    Iniciar() "
   ]
  },
  {
   "cell_type": "code",
   "execution_count": null,
   "metadata": {},
   "outputs": [],
   "source": []
  }
 ],
 "metadata": {
  "kernelspec": {
   "display_name": "Python 3",
   "language": "python",
   "name": "python3"
  },
  "language_info": {
   "codemirror_mode": {
    "name": "ipython",
    "version": 3
   },
   "file_extension": ".py",
   "mimetype": "text/x-python",
   "name": "python",
   "nbconvert_exporter": "python",
   "pygments_lexer": "ipython3",
   "version": "3.6.5"
  }
 },
 "nbformat": 4,
 "nbformat_minor": 2
}

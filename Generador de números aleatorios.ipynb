{
 "cells": [
  {
   "cell_type": "code",
   "execution_count": 6,
   "metadata": {
    "scrolled": true
   },
   "outputs": [
    {
     "name": "stdout",
     "output_type": "stream",
     "text": [
      "Generador congruencial multiplicativo y mixto\n",
      "\n",
      "Xn = (a*Xn-1+c)mod m\n",
      "\n",
      "Ingrese el valor de a: 5\n",
      "c: 1\n",
      "m: 9\n",
      "Xo: 1\n",
      "n   Xn    Un\n",
      "0   1   0.1111111111111111\n",
      "1   6   0.6666666666666666\n",
      "2   4   0.4444444444444444\n",
      "3   3   0.3333333333333333\n",
      "4   7   0.7777777777777778\n",
      "5   0   0.0\n",
      "6   1   0.1111111111111111\n",
      "El período es de  6\n"
     ]
    }
   ],
   "source": [
    "#Generador congruencial mixto y multiplicativo\n",
    "\n",
    "from math import *\n",
    "\n",
    "print (\"Generador congruencial multiplicativo y mixto\\n\")\n",
    "print (\"Xn = (a*Xn-1+c)mod m\\n\")\n",
    "a = int(input(\"Ingrese el valor de a: \")) #Escala lineal\n",
    "c = int(input(\"c: \")) #Para GC multiplicativo, use c = 0\n",
    "m = int(input(\"m: \")) #Módulo\n",
    "X = int(input(\"Xo: \")) #Semilla\n",
    "print (\"n   Xn    Un\")\n",
    "\n",
    "n = 0\n",
    "while True:\n",
    "    U = X/m #Enésimo número aleatorio generado\n",
    "    print (n, \" \",X, \" \",U)\n",
    "    v = X\n",
    "    X = (a*X+c)%m #Modelo lineal\n",
    "    if (v==X): #Valida cuando en una posición indefinida se empiezan a repetir los números a período 1\n",
    "        break\n",
    "    if (n==0): #En la primera iteración guarda el valor de Xo\n",
    "        Rep = X #en esta variable\n",
    "    if (n>0): #En esta iteración en adelante evalúa si se repite el Xo\n",
    "        if Rep==X: #ya que Uo prácticamente no existe.\n",
    "            break\n",
    "    n = n + 1\n",
    "    \n",
    "    \n",
    "print (\"El período es de \", n)\n",
    "    "
   ]
  },
  {
   "cell_type": "code",
   "execution_count": 33,
   "metadata": {},
   "outputs": [
    {
     "data": {
      "text/plain": [
       "[0.6666666666666666,\n",
       " 0.4444444444444444,\n",
       " 0.3333333333333333,\n",
       " 0.7777777777777778,\n",
       " 0.0,\n",
       " 0.1111111111111111]"
      ]
     },
     "execution_count": 33,
     "metadata": {},
     "output_type": "execute_result"
    }
   ],
   "source": [
    "#Generador congruencial mixto y multiplicativo (función para implementar)\n",
    "\n",
    "def GCM(a, c, m, X):\n",
    "    Xlist = []\n",
    "    Xlist.append(X)\n",
    "    U = []\n",
    "    n = 0\n",
    "    while True:\n",
    "        U.append(Xlist[n]/m)\n",
    "        v = Xlist[n]\n",
    "        Xlist.append((a*Xlist[n]+c)%m)\n",
    "        Rep = Xlist[1]\n",
    "        if (n>1):\n",
    "            if Rep==Xlist[n]:\n",
    "                break\n",
    "        n = n + 1\n",
    "        if (v == Xlist[n]):\n",
    "            break\n",
    "    return U[1:n]\n",
    "\n",
    "GCM (5, 1, 9, 1)"
   ]
  },
  {
   "cell_type": "code",
   "execution_count": 27,
   "metadata": {},
   "outputs": [
    {
     "name": "stdout",
     "output_type": "stream",
     "text": [
      "Ingrese un número: 3708\n",
      "\n",
      "Xo\tXo^2\tX1\tU1\n",
      "\n",
      "\n",
      "3708\t13749264\t7492\t0.7492\n"
     ]
    }
   ],
   "source": [
    "#Método MidSquare\n",
    "\n",
    "num = int(input(\"Ingrese un número: \"))\n",
    "dig = str(num).__len__() #Cantidad de dígitos del número\n",
    "\n",
    "if (dig%2==0): #Si la cantidad de dígitos es par:\n",
    "    \n",
    "    num2 = num*num #Número al cuadrado\n",
    "    dig2 = str(num2).__len__() #Cantidad de dígitos del número al cuadrado\n",
    "    \n",
    "    if (dig2%2!=0): #Rellenar con un 0 si la cantidad de dígitos del número al cuadrado es impar\n",
    "        numcad = str(num2).zfill(dig2+1) #dig2+1 representa la cantidad de dígitos que tendrá el número (incluídos los 0's)\n",
    "        \n",
    "    numcad = str(num2)\n",
    "    \n",
    "    numfinal = numcad[int(dig/2):int(dig/2)+dig] #Recoge los números del medio; dig/2 representa el inicio del rango\n",
    "                                                    #y dig/2+dig el final del rango\n",
    "    \n",
    "    u = int(numfinal)/(10**dig) #Número aleatorio final\n",
    "    print (\"\\nXo\",\"Xo^2\",\"X1\",\"U1\", sep=\"\\t\" )\n",
    "    print (\"\\n\")\n",
    "    print (num, numcad, numfinal, u, sep=\"\\t\")\n",
    "    \n",
    "\n",
    "else:\n",
    "    print (\"%s no es un número par\"% (num))"
   ]
  },
  {
   "cell_type": "code",
   "execution_count": 26,
   "metadata": {},
   "outputs": [
    {
     "data": {
      "text/plain": [
       "0.7492"
      ]
     },
     "execution_count": 26,
     "metadata": {},
     "output_type": "execute_result"
    }
   ],
   "source": [
    "#MidSquare (función para implementar)\n",
    "\n",
    "def MidSquare(num):\n",
    "    dig = str(num).__len__()\n",
    "    if (dig%2==0):\n",
    "        num2 = num*num\n",
    "        dig2 = str(num2).__len__()\n",
    "        if (dig2%2!=0):\n",
    "            numcad = str(num2).zfill(dig2+1)\n",
    "        numcad = str(num2)\n",
    "        numfinal = numcad[int(dig/2):int(dig/2)+dig]\n",
    "        u = int(numfinal)/(10**dig)\n",
    "        return u\n",
    "    else:\n",
    "        return 0\n",
    "        \n",
    "MidSquare (3708)"
   ]
  },
  {
   "cell_type": "code",
   "execution_count": null,
   "metadata": {},
   "outputs": [],
   "source": []
  }
 ],
 "metadata": {
  "kernelspec": {
   "display_name": "Python 3",
   "language": "python",
   "name": "python3"
  },
  "language_info": {
   "codemirror_mode": {
    "name": "ipython",
    "version": 3
   },
   "file_extension": ".py",
   "mimetype": "text/x-python",
   "name": "python",
   "nbconvert_exporter": "python",
   "pygments_lexer": "ipython3",
   "version": "3.6.5"
  }
 },
 "nbformat": 4,
 "nbformat_minor": 2
}

{
 "cells": [
  {
   "cell_type": "code",
   "execution_count": 21,
   "metadata": {},
   "outputs": [
    {
     "name": "stdout",
     "output_type": "stream",
     "text": [
      "Generador congruencial multiplicativo y mixto\n",
      "\n",
      "Xn = (a*Xn-1+c)mod m\n",
      "\n",
      "Advertencia: el valor m debe ser mayor a los otros\n",
      "\n",
      "Ingrese el valor de a: 16\n",
      "c: 4\n",
      "m: 45\n",
      "Xo: 1\n",
      "n   Xn    Un\n",
      "0   1   0.022222222222222223\n",
      "1   20   0.4444444444444444\n",
      "2   9   0.2\n",
      "3   13   0.28888888888888886\n",
      "4   32   0.7111111111111111\n",
      "5   21   0.4666666666666667\n",
      "6   25   0.5555555555555556\n",
      "7   44   0.9777777777777777\n",
      "8   33   0.7333333333333333\n",
      "9   37   0.8222222222222222\n",
      "10   11   0.24444444444444444\n",
      "11   0   0.0\n",
      "12   4   0.08888888888888889\n",
      "13   23   0.5111111111111111\n",
      "14   12   0.26666666666666666\n",
      "15   16   0.35555555555555557\n",
      "16   35   0.7777777777777778\n",
      "17   24   0.5333333333333333\n",
      "18   28   0.6222222222222222\n",
      "19   2   0.044444444444444446\n",
      "20   36   0.8\n",
      "21   40   0.8888888888888888\n",
      "22   14   0.3111111111111111\n",
      "23   3   0.06666666666666667\n",
      "24   7   0.15555555555555556\n",
      "25   26   0.5777777777777777\n",
      "26   15   0.3333333333333333\n",
      "27   19   0.4222222222222222\n",
      "28   38   0.8444444444444444\n",
      "29   27   0.6\n",
      "30   31   0.6888888888888889\n",
      "31   5   0.1111111111111111\n",
      "32   39   0.8666666666666667\n",
      "33   43   0.9555555555555556\n",
      "34   17   0.37777777777777777\n",
      "35   6   0.13333333333333333\n",
      "36   10   0.2222222222222222\n",
      "37   29   0.6444444444444445\n",
      "38   18   0.4\n",
      "39   22   0.4888888888888889\n",
      "40   41   0.9111111111111111\n",
      "41   30   0.6666666666666666\n",
      "42   34   0.7555555555555555\n",
      "43   8   0.17777777777777778\n",
      "44   42   0.9333333333333333\n",
      "45   1   0.022222222222222223\n",
      "El período es de  45\n"
     ]
    }
   ],
   "source": [
    "# Generador congruencial mixto y multiplicativo\n",
    "\n",
    "from math import *\n",
    "\n",
    "print (\"Generador congruencial multiplicativo y mixto\\n\")\n",
    "print (\"Xn = (a*Xn-1+c)mod m\\n\")\n",
    "print (\"Advertencia: el valor m debe ser mayor a los otros\\n\")\n",
    "a = int(input(\"Ingrese el valor de a: \")) #Escala lineal\n",
    "c = int(input(\"c: \")) #Para GC multiplicativo, use c = 0\n",
    "m = int(input(\"m: \")) #Módulo\n",
    "X = int(input(\"Xo: \")) #Semilla\n",
    "\n",
    "print (\"n   Xn    Un\")\n",
    "\n",
    "n = 0\n",
    "while True:\n",
    "    U = X/m #Enésimo número aleatorio generado\n",
    "    print (n, \" \",X, \" \",U)\n",
    "    v = X\n",
    "    X = (a*X+c)%m #Modelo lineal\n",
    "    if (v==X): #Valida cuando en una posición indefinida se empiezan a repetir los números a período 1 (6, 1, 16, 2)\n",
    "        break\n",
    "    if (n==0): #En la primera iteración guarda el valor de Xo\n",
    "        Rep = X #en esta variable\n",
    "    if (n>0): #En esta iteración en adelante evalúa si se repite el Xo\n",
    "        if Rep==X: #ya que Uo prácticamente no existe.\n",
    "            break\n",
    "    n = n + 1\n",
    "    \n",
    "    \n",
    "print (\"El período es de \", n)"
   ]
  },
  {
   "cell_type": "code",
   "execution_count": 23,
   "metadata": {},
   "outputs": [
    {
     "name": "stdout",
     "output_type": "stream",
     "text": [
      "[0.4444444444444444, 0.2, 0.28888888888888886, 0.7111111111111111, 0.4666666666666667, 0.5555555555555556, 0.9777777777777777, 0.7333333333333333, 0.8222222222222222, 0.24444444444444444, 0.0, 0.08888888888888889, 0.5111111111111111, 0.26666666666666666, 0.35555555555555557, 0.7777777777777778, 0.5333333333333333, 0.6222222222222222, 0.044444444444444446, 0.8, 0.8888888888888888, 0.3111111111111111, 0.06666666666666667, 0.15555555555555556, 0.5777777777777777, 0.3333333333333333, 0.4222222222222222, 0.8444444444444444, 0.6, 0.6888888888888889, 0.1111111111111111, 0.8666666666666667, 0.9555555555555556, 0.37777777777777777, 0.13333333333333333, 0.2222222222222222, 0.6444444444444445, 0.4, 0.4888888888888889, 0.9111111111111111, 0.6666666666666666, 0.7555555555555555, 0.17777777777777778, 0.9333333333333333, 0.022222222222222223]\n",
      "\n",
      "a: 16 \n",
      "c: 4 \n",
      "m: 45 \n",
      "Xo: 1\n",
      "El generador es de período completo\n"
     ]
    },
    {
     "data": {
      "image/png": "[encoded data removed]",
      "text/plain": [
       "<Figure size 432x288 with 1 Axes>"
      ]
     },
     "metadata": {},
     "output_type": "display_data"
    }
   ],
   "source": [
    "#Generador congruencial mixto y multiplicativo (función para implementar)\n",
    "\n",
    "from pylab import *\n",
    "import matplotlib.pyplot as plt\n",
    "import numpy as np\n",
    "\n",
    "def GCM(a, c, m, X):\n",
    "    Xlist = []\n",
    "    Xlist.append(X)\n",
    "    U = []\n",
    "    n = 0\n",
    "    while True:\n",
    "        U.append(Xlist[n]/m)\n",
    "        v = Xlist[n]\n",
    "        Xlist.append((a*Xlist[n]+c)%m)\n",
    "        Rep = Xlist[1]\n",
    "        if (n>1):\n",
    "            if Rep==Xlist[n]:\n",
    "                break\n",
    "        n = n + 1\n",
    "        if (v == Xlist[n]):\n",
    "            break\n",
    "    return U[1:n]\n",
    "\n",
    "\n",
    "################################################\n",
    "#Gráfica de uniformidad\n",
    "\n",
    "VecU = []\n",
    "a = 16\n",
    "c =4\n",
    "m = 45\n",
    "X = 1\n",
    "VecU = GCM (a, c, m, X)\n",
    "\n",
    "print (VecU)\n",
    "\n",
    "print (\"\\na:\",a,\"\\nc:\",c,\"\\nm:\",m,\"\\nXo:\",X)\n",
    "if (m == len(VecU)):\n",
    "    print (\"El generador es de período completo\")\n",
    "else:\n",
    "    print (\"El generador NO es de período completo\")\n",
    "\n",
    "N = []\n",
    "for i in range(len(VecU)):\n",
    "    N.append(i)\n",
    "\n",
    "plt.title (\"Gráfica de dispersión\")\n",
    "plt.xlabel(\"Iteraciones\")\n",
    "plt.ylabel(\"Probabilidad\")\n",
    "plt.grid(True)\n",
    "plt.scatter(N, VecU)\n",
    "plt.show()\n"
   ]
  },
  {
   "cell_type": "code",
   "execution_count": 3,
   "metadata": {},
   "outputs": [
    {
     "name": "stdout",
     "output_type": "stream",
     "text": [
      "Ingrese un número: 3708\n",
      "\n",
      "Xo\tXo^2\tX1\tU1\n",
      "\n",
      "\n",
      "3708\t13749264\t7492\t0.7492\n"
     ]
    }
   ],
   "source": [
    "#Método MidSquare\n",
    "\n",
    "num = int(input(\"Ingrese un número: \"))\n",
    "dig = str(num).__len__() #Cantidad de dígitos del número\n",
    "\n",
    "if (dig%2==0): #Si la cantidad de dígitos es par:\n",
    "    \n",
    "    num2 = num*num #Número al cuadrado\n",
    "    dig2 = str(num2).__len__() #Cantidad de dígitos del número al cuadrado\n",
    "    \n",
    "    if (dig2%2!=0): #Rellenar con un 0 si la cantidad de dígitos del número al cuadrado es impar\n",
    "        numcad = str(num2).zfill(dig2+1) #dig2+1 representa la cantidad de dígitos que tendrá el número (incluídos los 0's)\n",
    "        \n",
    "    numcad = str(num2)\n",
    "    \n",
    "    numfinal = numcad[int(dig/2):int(dig/2)+dig] #Recoge los números del medio; dig/2 representa el inicio del rango\n",
    "                                                    #y dig/2+dig el final del rango\n",
    "    \n",
    "    u = int(numfinal)/(10**dig) #Número aleatorio final\n",
    "    print (\"\\nXo\",\"Xo^2\",\"X1\",\"U1\", sep=\"\\t\" )\n",
    "    print (\"\\n\")\n",
    "    print (num, numcad, numfinal, u, sep=\"\\t\")\n",
    "    \n",
    "\n",
    "else:\n",
    "    print (\"%s no es un número par\"% (num))"
   ]
  },
  {
   "cell_type": "code",
   "execution_count": 4,
   "metadata": {},
   "outputs": [
    {
     "data": {
      "text/plain": [
       "0.7492"
      ]
     },
     "execution_count": 4,
     "metadata": {},
     "output_type": "execute_result"
    }
   ],
   "source": [
    "#MidSquare (función para implementar)\n",
    "\n",
    "def MidSquare(num):\n",
    "    dig = str(num).__len__()\n",
    "    if (dig%2==0):\n",
    "        num2 = num*num\n",
    "        dig2 = str(num2).__len__()\n",
    "        if (dig2%2!=0):\n",
    "            numcad = str(num2).zfill(dig2+1)\n",
    "        numcad = str(num2)\n",
    "        numfinal = numcad[int(dig/2):int(dig/2)+dig]\n",
    "        u = int(numfinal)/(10**dig)\n",
    "        return u\n",
    "    else:\n",
    "        return 0\n",
    "        \n",
    "MidSquare (3708)"
   ]
  },
  {
   "cell_type": "code",
   "execution_count": null,
   "metadata": {},
   "outputs": [],
   "source": []
  }
 ],
 "metadata": {
  "kernelspec": {
   "display_name": "Python 3",
   "language": "python",
   "name": "python3"
  },
  "language_info": {
   "codemirror_mode": {
    "name": "ipython",
    "version": 3
   },
   "file_extension": ".py",
   "mimetype": "text/x-python",
   "name": "python",
   "nbconvert_exporter": "python",
   "pygments_lexer": "ipython3",
   "version": "3.6.5"
  }
 },
 "nbformat": 4,
 "nbformat_minor": 2
}

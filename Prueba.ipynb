{
 "cells": [
  {
   "cell_type": "markdown",
   "metadata": {},
   "source": [
    "# Método de la Transformada inversa (eficiente)\n",
    "\n",
    "#### Función de masa de probabilidad $P\\{X = x_i\\} = p_i \\,,\\,\\,\\,i=0,1,2,3... , \\, \\sum_{i} p_i = 1$ \n",
    "#### Para una función de probabilidad $P\\{0.3, 0.2, 0.35, 0.15\\}$ donde se genera una variable aleatoria discreta $X$ y cada $p_{i}$ tiene asignado un $x_{i}$ y la suma de todas las probabilidades es igual a 1\n",
    "#### El método no eficiente consiste en tomar una variable aleatoria continua $U\\,\\,(0,\\,1)$ y generar una variable aleatoria discreta $X$ sumando las probabilidades $p_{i}$ y comparando con nuestra $U$ y así asignar el valor del subíndice de $p$ a nuestra variable $X$ de la siguiente manera:\n",
    "\n",
    "$X = \\left\\{ \\begin{array}{4l}\n",
    "         x_{0} & \\mbox{Si $U < p_{0}$}\\\\\n",
    "         x_{1} & \\mbox{Si $U < p_{0}+p_{1}$}\\\\\n",
    "         \\vdots & \\\\\n",
    "         x_{i} & \\mbox{Si $U < \\sum_{n=1}^{i} p_{n}$}\\\\\n",
    "         \\vdots & \\end{array} \\right.$\n",
    "         \n",
    "##### Si alguna de esas condiciones se cumple, hacer  $X = x_{i}$ que es lo mismo que hacer $X = i$, esa posición de $i$ es donde queda el valor de la probabilidad $p_{i}$\n",
    "         \n",
    "#### Para mi $P\\{0.3, 0.2, 0.35, 0.15\\}$ me queda:\n",
    "\n",
    "$X = \\left\\{ \\begin{array}{3l}\n",
    "         x_{0} & \\mbox{Si $U < 0.3$}\\\\\n",
    "         x_{1} & \\mbox{Si $U < 0.3+0.2$}\\\\\n",
    "         x_{2} & \\mbox{Si $U < 0.3+0.2+0.35$}\\\\\n",
    "         x_{3} & \\mbox{Si $U < 0.3+0.2+0.35+0.15$}\\end{array} \\right.$\n",
    "         \n",
    "#### Claramente si mi variable $U$ se cumple en el $x_{2}$ entonces mi variable aleatoria discreta sería $X = 2$, por lo tanto, $X$ puede tomar valores entre $[0,\\,3]$\n",
    "\n",
    "#### Pero esta forma de sumar las probabilidades no es la más eficiente, pues es más probable que nuestras probilidades más grandes sean mayores a $U$ y esto hace que se hagan menos iteraciones, por lo tanto, hay que acumular los valores de mayor a menor así: $P\\{0.35, 0.3, 0.2, 0.15\\}$ y sin alterar el subíndice, así: $P\\{p_{2}, p_{0}, p_{1}, p_{3}\\}$\n",
    "#### Así quedarían nuestras condiciones:\n",
    "\n",
    "$X = \\left\\{ \\begin{array}{3l}\n",
    "         x_{2} & \\mbox{Si $U < 0.35$}\\\\\n",
    "         x_{0} & \\mbox{Si $U < 0.35+0.3$}\\\\\n",
    "         x_{1} & \\mbox{Si $U < 0.35+0.3+0.2$}\\\\\n",
    "         x_{3} & \\mbox{Si $U < 0.35+0.3+0.2+0.15$}\\end{array} \\right.$"
   ]
  },
  {
   "cell_type": "code",
   "execution_count": 11,
   "metadata": {},
   "outputs": [
    {
     "name": "stdout",
     "output_type": "stream",
     "text": [
      "U < F\n",
      "0.7349158755819531  <  0.35\n",
      "0.7349158755819531  <  0.6499999999999999\n",
      "0.7349158755819531  <  0.8499999999999999\n"
     ]
    },
    {
     "data": {
      "text/plain": [
       "2"
      ]
     },
     "execution_count": 11,
     "metadata": {},
     "output_type": "execute_result"
    }
   ],
   "source": [
    "from random import random\n",
    "\n",
    "def transInversa(p):\n",
    "    U = random()\n",
    "    F = 0\n",
    "    index = 0\n",
    "    print (\"U < F\")\n",
    "    for i in range(len(p)):\n",
    "        mayor = buscarMayor(p) #Busca la mayor probabilidad para hacer el algoritmo más eficiente\n",
    "        F = F + mayor # Se acumula el p mayor\n",
    "        print (U,\" < \", F)\n",
    "        index = p.index(mayor) # Captura la posición del número mayor\n",
    "        p.pop(index) #Se elimina el valor mayor para evitar redundancia\n",
    "        if (U<F): #Acumulado\n",
    "            X = i\n",
    "            break\n",
    "    return X\n",
    "        \n",
    "def buscarMayor(p):\n",
    "    mayor = p[0]\n",
    "    for i in range(len(p)):\n",
    "        if (p[i]>mayor):\n",
    "            mayor = p[i]\n",
    "    return mayor\n",
    "    \n",
    "transInversa([0.3, 0.2, 0.35, 0.15])"
   ]
  },
  {
   "cell_type": "code",
   "execution_count": null,
   "metadata": {},
   "outputs": [],
   "source": []
  }
 ],
 "metadata": {
  "kernelspec": {
   "display_name": "Python 3",
   "language": "python",
   "name": "python3"
  },
  "language_info": {
   "codemirror_mode": {
    "name": "ipython",
    "version": 3
   },
   "file_extension": ".py",
   "mimetype": "text/x-python",
   "name": "python",
   "nbconvert_exporter": "python",
   "pygments_lexer": "ipython3",
   "version": "3.6.5"
  }
 },
 "nbformat": 4,
 "nbformat_minor": 2
}
